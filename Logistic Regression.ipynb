{
  "cells": [
    {
      "cell_type": "markdown",
      "metadata": {
        "id": "header"
      },
      "source": [
        "# Supervised Learning: Regression Models and Performance Metrics | Assignment Solution\n",
        "\n",
        "This notebook provides the complete solution for the Regression Models and Performance Metrics Assignment (DA-AG-008)."
      ]
    },
    {
      "cell_type": "markdown",
      "metadata": {
        "id": "q1"
      },
      "source": [
        "## Question 1: What is Simple Linear Regression (SLR)? Explain its purpose."
      ]
    },
    {
      "cell_type": "markdown",
      "metadata": {
        "id": "a1"
      },
      "source": [
        "**Simple Linear Regression (SLR)** is a statistical method used to model the relationship between two variables: one **independent variable** (or predictor, $X$) and one **dependent variable** (or response, $Y$).\n",
        "\n",
        "* **Purpose:** The primary purpose of SLR is to **find the best-fitting straight line** through the data that allows us to predict the value of the dependent variable ($Y$) based on the value of the independent variable ($X$). It helps us quantify the strength and direction of the linear relationship between these two variables."
      ]
    },
    {
      "cell_type": "markdown",
      "metadata": {
        "id": "q2"
      },
      "source": [
        "## Question 2: What are the key assumptions of Simple Linear Regression?"
      ]
    },
    {
      "cell_type": "markdown",
      "metadata": {
        "id": "a2"
      },
      "source": [
        "SLR models rely on four key assumptions (often remembered by the acronym **LINE** or **LIPE**) for the estimates and statistical tests to be valid:\n",
        "\n",
        "1.  **Linearity:** The relationship between the independent variable ($X$) and the mean of the dependent variable ($Y$) must be **linear**.\n",
        "2.  **Independence of Errors (or Observations):** The residuals (errors) must be independent of each other. This is particularly important for time-series data where consecutive errors might be correlated (**autocorrelation**).\n",
        "3.  **Normality of Errors:** The residuals must be **normally distributed** around the mean of zero.\n",
        "4.  **Equality of Variance (Homoscedasticity):** The variance of the residuals must be constant for all levels of the independent variable. In simple terms, the spread of the data points around the regression line should be roughly the same across the entire range of $X$."
      ]
    },
    {
      "cell_type": "markdown",
      "metadata": {
        "id": "q3"
      },
      "source": [
        "## Question 3: Write the mathematical equation for a simple linear regression model and explain each term."
      ]
    },
    {
      "cell_type": "markdown",
      "metadata": {
        "id": "a3"
      },
      "source": [
        "The mathematical equation for a simple linear regression model is:\n",
        "\n",
        "$$Y = \\beta_0 + \\beta_1 X + \\epsilon$$\n",
        "\n",
        "| Term | Explanation |\n",
        "| :--- | :--- |\n",
        "| $\\mathbf{Y}$ | **Dependent Variable** (or Response). This is the variable we are trying to predict or explain. |\n",
        "| $\\mathbf{\\beta_0}$ | **Intercept** (or Bias). This is the predicted value of $Y$ when the independent variable $X$ is zero. |\n",
        "| $\\mathbf{\\beta_1}$ | **Slope** (or Coefficient for $X$). This represents the change in $Y$ for every one-unit increase in $X$. |\n",
        "| $\\mathbf{X}$ | **Independent Variable** (or Predictor/Feature). This is the variable used to explain or predict $Y$. |\n",
        "| $\\mathbf{\\epsilon}$ | **Error Term** (or Residual). This represents the difference between the actual observed value of $Y$ and the value predicted by the model. It accounts for all other factors that affect $Y$. |"
      ]
    },
    {
      "cell_type": "markdown",
      "metadata": {
        "id": "q4"
      },
      "source": [
        "## Question 4: Provide a real-world example where simple linear regression can be applied."
      ]
    },
    {
      "cell_type": "markdown",
      "metadata": {
        "id": "a4"
      },
      "source": [
        "A common real-world application of simple linear regression is modeling the relationship between **Study Hours and Exam Scores**.\n",
        "\n",
        "* **Independent Variable ($X$):** Number of hours a student spends studying for an exam.\n",
        "* **Dependent Variable ($Y$):** The score the student achieves on that exam.\n",
        "\n",
        "SLR could be used to determine if there is a statistically significant linear relationship and to predict a student's likely exam score based on their study time."
      ]
    },
    {
      "cell_type": "markdown",
      "metadata": {
        "id": "q5"
      },
      "source": [
        "## Question 5: What is the method of least squares in linear regression?"
      ]
    },
    {
      "cell_type": "markdown",
      "metadata": {
        "id": "a5"
      },
      "source": [
        "The **Method of Least Squares** is the technique used to find the optimal values for the coefficients ($\\beta_0$ and $\\beta_1$) in a linear regression model.\n",
        "\n",
        "* **Mechanism:** It works by minimizing the **Sum of Squared Errors (SSE)**, which is the sum of the squared vertical distances (residuals) between the actual data points and the regression line.\n",
        "* **Goal:** By minimizing SSE, the method ensures that the line drawn through the data is the \"best-fitting\" line, as it keeps the total distance from all data points to the line as small as possible. [Image of least squares method]"
      ]
    },
    {
      "cell_type": "markdown",
      "metadata": {
        "id": "q6"
      },
      "source": [
        "## Question 6: What is Logistic Regression? How does it differ from Linear Regression?"
      ]
    },
    {
      "cell_type": "markdown",
      "metadata": {
        "id": "a6"
      },
      "source": [
        "| Feature | Simple Linear Regression (SLR) | Logistic Regression |\n",
        "| :--- | :--- | :--- |\n",
        "| **Problem Type** | **Regression** (Predicting continuous values) | **Classification** (Predicting categorical/binary outcomes) |\n",
        "| **Dependent Variable (Y)** | Continuous (e.g., Price, Height, Score) | Categorical (usually Binary, e.g., Yes/No, 0/1, Spam/Not Spam) |\n",
        "| **Output** | A straight line that predicts a raw value. | A probability (between 0 and 1) that an observation belongs to a particular class. |\n",
        "| **Transformation** | None. Uses a direct linear equation. | Uses the **Sigmoid Function** (or logistic function) to map the output of the linear equation into a probability. |\n",
        "\n",
        "**In short, Logistic Regression uses the linear equation of SLR but wraps it in a sigmoid function to transform the output into a probability, making it suitable for classification tasks.**"
      ]
    },
    {
      "cell_type": "markdown",
      "metadata": {
        "id": "q7"
      },
      "source": [
        "## Question 7: Name and briefly describe three common evaluation metrics for regression models."
      ]
    },
    {
      "cell_type": "markdown",
      "metadata": {
        "id": "a7"
      },
      "source": [
        "1.  **Mean Absolute Error (MAE):**\n",
        "    * **Description:** This is the average of the absolute differences between the predicted values and the actual values.\n",
        "    * **Interpretation:** It gives a clear, interpretable measure of the average error in the same units as the dependent variable. It treats all errors equally.\n",
        "\n",
        "2.  **Mean Squared Error (MSE):**\n",
        "    * **Description:** This is the average of the squared differences between the predicted and actual values.\n",
        "    * **Interpretation:** Because errors are squared, this metric heavily penalizes **larger errors (outliers)**, making it sensitive to models that produce significant deviations. Its units are squared.\n",
        "\n",
        "3.  **Root Mean Squared Error (RMSE):**\n",
        "    * **Description:** This is the square root of the MSE.\n",
        "    * **Interpretation:** Like MAE, it returns the error in the original units of the dependent variable, making it more interpretable than MSE. It is still sensitive to outliers but less so than MSE."
      ]
    },
    {
      "cell_type": "markdown",
      "metadata": {
        "id": "q8"
      },
      "source": [
        "## Question 8: What is the purpose of the R-squared metric in regression analysis?"
      ]
    },
    {
      "cell_type": "markdown",
      "metadata": {
        "id": "a8"
      },
      "source": [
        "The **R-squared** metric (also known as the **Coefficient of Determination**) measures the **proportion of the variance in the dependent variable ($Y$) that is predictable from the independent variable(s) ($X$)**.\n",
        "\n",
        "* **Value Range:** It ranges from 0 to 1 (or 0% to 100%).\n",
        "* **Purpose:** It serves as a measure of the **goodness of fit** of the model.\n",
        "    * An R-squared of **0.80** means that 80% of the variation in $Y$ is explained by the model (i.e., by $X$).\n",
        "    * An R-squared close to **1** indicates that the model explains most of the variability in the response data and fits the data well.\n",
        "    * An R-squared close to **0** indicates that the model does not explain much of the variability, and the prediction is no better than simply using the mean of $Y$."
      ]
    },
    {
      "cell_type": "markdown",
      "metadata": {
        "id": "q9"
      },
      "source": [
        "## Question 9: Write Python code to fit a simple linear regression model using scikit-learn and print the slope and intercept.\n",
        "\n",
        "We'll use synthetic data representing the relationship between Study Hours ($X$) and Exam Scores ($Y$)."
      ]
    },
    {
      "cell_type": "code",
      "execution_count": 2,
      "metadata": {
        "id": "q9_code"
      },
      "outputs": [
        {
          "name": "stdout",
          "output_type": "stream",
          "text": [
            "--- Python Code Output ---\n",
            "Slope (Coefficient, β1): 5.00\n",
            "Intercept (Bias, β0): 50.00\n"
          ]
        }
      ],
      "source": [
        "import numpy as np\n",
        "from sklearn.linear_model import LinearRegression\n",
        "\n",
        "# 1. Prepare synthetic data for Study Hours (X) and Exam Scores (y)\n",
        "# X must be a 2D array (features)\n",
        "X = np.array([1, 2, 3, 4, 5, 6, 7, 8, 9, 10]).reshape(-1, 1)\n",
        "# y is a 1D array (target)\n",
        "y = np.array([55, 60, 65, 70, 75, 80, 85, 90, 95, 100])\n",
        "\n",
        "# 2. Initialize the Simple Linear Regression model\n",
        "model = LinearRegression()\n",
        "\n",
        "# 3. Fit the model to the data\n",
        "model.fit(X, y)\n",
        "\n",
        "# 4. Print the learned parameters (slope and intercept)\n",
        "print(\"--- Python Code Output ---\")\n",
        "# The coefficient (slope) for the single feature is at index 0\n",
        "print(f\"Slope (Coefficient, β1): {model.coef_[0]:.2f}\")\n",
        "# The intercept (bias)\n",
        "print(f\"Intercept (Bias, β0): {model.intercept_:.2f}\")"
      ]
    },
    {
      "cell_type": "markdown",
      "metadata": {
        "id": "q10"
      },
      "source": [
        "## Question 10: How do you interpret the coefficients in a simple linear regression model?"
      ]
    },
    {
      "cell_type": "markdown",
      "metadata": {
        "id": "a10"
      },
      "source": [
        "The interpretation of the coefficients ($\\beta_0$ and $\\beta_1$) is direct and follows the mathematical form of the equation: $Y = \\beta_0 + \\beta_1 X$.\n",
        "\n",
        "1.  **Interpretation of the Slope ($\\beta_1$):**\n",
        "    * The slope represents the **expected change in the dependent variable ($Y$) for every one-unit increase in the independent variable ($X$)**, assuming all other factors remain constant.\n",
        "    * *Example (using output from Q9):* If the slope is $\\mathbf{5.00}$, it means that for every additional hour a student studies ($X$), their predicted exam score ($Y$) increases by $\\mathbf{5.00}$ points.\n",
        "\n",
        "2.  **Interpretation of the Intercept ($\\beta_0$):**\n",
        "    * The intercept represents the **predicted value of the dependent variable ($Y$) when the independent variable ($X$) is equal to zero.**\n",
        "    * *Example (using output from Q9):* If the intercept is $\\mathbf{50.00}$, it means a student who studies for zero hours ($X=0$) is still predicted to achieve a score of $\\mathbf{50.00}$ points ($Y$).\n"
      ]
    }
  ],
  "metadata": {
    "colab": {
      "name": "Regression Assignment Solution",
      "provenance": []
    },
    "kernelspec": {
      "display_name": ".venv",
      "language": "python",
      "name": "python3"
    },
    "language_info": {
      "codemirror_mode": {
        "name": "ipython",
        "version": 3
      },
      "file_extension": ".py",
      "mimetype": "text/x-python",
      "name": "python",
      "nbconvert_exporter": "python",
      "pygments_lexer": "ipython3",
      "version": "3.11.9"
    }
  },
  "nbformat": 4,
  "nbformat_minor": 5
}
