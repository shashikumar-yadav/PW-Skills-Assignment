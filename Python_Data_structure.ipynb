{
    "cells": [
        {
            "cell_type": "markdown",
            "metadata": {},
            "source": [
                "# Data Types and Structures Assignment Answers"
            ]
        },
        {
            "cell_type": "markdown",
            "metadata": {},
            "source": [
                "This notebook contains the answers to the Data Types and Structures Assignment questions."
            ]
        },
        {
            "cell_type": "markdown",
            "metadata": {},
            "source": [
                "## Theoretical Questions"
            ]
        },
        {
            "cell_type": "markdown",
            "metadata": {},
            "source": [
                "### 1. What are data structures, and why are they important?\n",
                "\n",
                "**Answer:** Data structures are specialized formats for organizing, processing, retrieving, and storing data. They are fundamental in computer science because they enable efficient management of data, which is crucial for designing efficient algorithms and programs. Choosing the right data structure can significantly impact the performance (time and space complexity) of an application, making operations like searching, sorting, insertion, and deletion faster."
            ]
        },
        {
            "cell_type": "markdown",
            "metadata": {},
            "source": [
                "### 2. Explain the difference between mutable and immutable data types with examples.\n",
                "\n",
                "**Answer:**\n",
                "- **Mutable Data Types:** Objects of these types can be modified after they are created. Changes to a mutable object happen in-place, meaning its memory address remains the same. Examples: `list`, `dict`, `set`.\n",
                "  ```python\n",
                "  my_list = [1, 2, 3]\n",
                "  print(f\"Original list: {my_list}, ID: {id(my_list)}\")\n",
                "  my_list.append(4)\n",
                "  print(f\"Modified list: {my_list}, ID: {id(my_list)}\") # ID remains the same\n",
                "  ```\n",
                "- **Immutable Data Types:** Objects of these types cannot be modified after they are created. Any operation that seems to 'change' an immutable object actually creates a new object. Examples: `int`, `float`, `str`, `tuple`, `frozenset`.\n",
                "  ```python\n",
                "  my_string = \"hello\"\n",
                "  print(f\"Original string: {my_string}, ID: {id(my_string)}\")\n",
                "  my_string = my_string + \" world\" # Creates a new string object\n",
                "  print(f\"Modified string: {my_string}, ID: {id(my_string)}\") # ID changes\n",
                "  ```"
            ]
        },
        {
            "cell_type": "markdown",
            "metadata": {},
            "source": [
                "### 3. What are the main differences between lists and tuples in Python?\n",
                "\n",
                "**Answer:**\n",
                "| Feature        | List                                  | Tuple                                  |\n",
                "|----------------|---------------------------------------|----------------------------------------|\n",
                "| **Mutability** | Mutable (can be changed)              | Immutable (cannot be changed)          |\n",
                "| **Syntax** | Square brackets `[]`                  | Parentheses `()`                       |\n",
                "| **Purpose** | Dynamic collections, homogeneous data | Fixed collections, heterogeneous data  |\n",
                "| **Performance**| Slower for creation/iteration         | Faster for creation/iteration          |\n",
                "| **Memory** | More memory overhead                  | Less memory overhead                   |\n",
                "| **Use as Dict Key** | Cannot be used (not hashable)      | Can be used (if elements are immutable)|\n",
                "| **Methods** | `append()`, `remove()`, `sort()`, etc.| Fewer methods (`count()`, `index()`)   |"
            ]
        },
        {
            "cell_type": "markdown",
            "metadata": {},
            "source": [
                "### 4. Describe how dictionaries store data.\n",
                "\n",
                "**Answer:** Dictionaries in Python store data as unordered collections of **key-value pairs**. Each `key` must be unique and immutable (e.g., strings, numbers, tuples). The `value` associated with a key can be of any data type and can be mutable or immutable. Dictionaries are implemented using hash tables, which allow for very efficient (average O(1)) retrieval, insertion, and deletion of values based on their keys."
            ]
        },
        {
            "cell_type": "markdown",
            "metadata": {},
            "source": [
                "### 5. Why might you use a set instead of a list in Python?\n",
                "\n",
                "**Answer:** You might use a set instead of a list in Python for the following reasons:\n",
                "- **Uniqueness:** Sets automatically handle duplicate values; they only store unique elements. If you need a collection of distinct items, a set is ideal.\n",
                "- **Membership Testing:** Checking if an element exists in a set (`element in my_set`) is generally much faster (average O(1) time complexity) than checking in a list (average O(n) time complexity).\n",
                "- **Mathematical Set Operations:** Sets provide built-in methods for mathematical set operations like union, intersection, difference, and symmetric difference, which are very efficient."
            ]
        },
        {
            "cell_type": "markdown",
            "metadata": {},
            "source": [
                "### 6. What is a string in Python, and how is it different from a list?\n",
                "\n",
                "**Answer:**\n",
                "- A **string** in Python is an immutable sequence of Unicode characters. It is used to represent text.\n",
                "- **Differences from a list:**\n",
                "    - **Mutability:** Strings are immutable (cannot be changed after creation), while lists are mutable.\n",
                "    - **Homogeneity:** Strings are sequences of characters (homogeneous), while lists can contain elements of different data types (heterogeneous).\n",
                "    - **Purpose:** Strings are specifically for text, while lists are general-purpose ordered collections."
            ]
        },
        {
            "cell_type": "markdown",
            "metadata": {},
            "source": [
                "### 7. How do tuples ensure data integrity in Python?\n",
                "\n",
                "**Answer:** Tuples ensure data integrity through their **immutability**. Once a tuple is created, its elements cannot be changed, added, or removed. This means that the data stored in a tuple is guaranteed to remain constant throughout the program's execution, preventing accidental modification or corruption. This makes them suitable for representing fixed records or data that should not be altered."
            ]
        },
        {
            "cell_type": "markdown",
            "metadata": {},
            "source": [
                "### 8. What is a hash table, and how does it relate to dictionaries in Python?\n",
                "\n",
                "**Answer:** A **hash table** (or hash map) is a data structure that implements an associative array abstract data type, mapping keys to values. It uses a hash function to compute an index into an array of buckets or slots, from which the desired value can be found.\n",
                "\n",
                "**Relation to Python Dictionaries:** Python dictionaries are implemented using hash tables. When you add a key-value pair to a dictionary, Python computes a hash value for the key, which helps determine where to store the key-value pair in memory. This hash-based storage allows for very fast average-case time complexity (O(1)) for operations like insertion, deletion, and lookup."
            ]
        },
        {
            "cell_type": "markdown",
            "metadata": {},
            "source": [
                "### 9. Can lists contain different data types in Python?\n",
                "\n",
                "**Answer:** Yes, lists in Python can contain elements of different data types. They are heterogeneous, meaning you can store integers, floats, strings, booleans, other lists, tuples, dictionaries, and even custom objects within the same list.```python\n",
                "my_mixed_list = [1, \"hello\", 3.14, True, [5, 6], {\"key\": \"value\"}]\n",
                "print(my_mixed_list)\n",
                "```"
            ]
        },
        {
            "cell_type": "markdown",
            "metadata": {},
            "source": [
                "### 10. Explain why strings are immutable in Python.\n",
                "\n",
                "**Answer:** Strings are immutable in Python for several reasons:\n",
                "- **Performance and Efficiency:** Immutability allows for certain optimizations. For instance, Python can cache frequently used string literals, saving memory. When a string is modified, a new string object is created, which can sometimes be less efficient than in-place modification, but it simplifies memory management and avoids unexpected side effects.\n",
                "- **Thread Safety:** In multi-threaded environments, immutable objects are inherently thread-safe because their state cannot change after creation, eliminating the need for locks.\n",
                "- **Hashability:** Immutable objects can be hashed, making them suitable for use as keys in dictionaries and elements in sets. If strings were mutable, their hash value could change, breaking the integrity of hash-based data structures."
            ]
        },
        {
            "cell_type": "markdown",
            "metadata": {},
            "source": [
                "### 11. What advantages do dictionaries offer over lists for certain tasks?\n",
                "\n",
                "**Answer:** Dictionaries offer several advantages over lists for specific tasks:\n",
                "- **Fast Lookups by Key:** Dictionaries provide O(1) average-case time complexity for looking up values by their keys, which is significantly faster than searching by value in a list (O(n)).\n",
                "- **Associative Data Storage:** They are ideal for storing data where each piece of information is associated with a unique identifier (key), making the data more organized and self-descriptive.\n",
                "- **Flexibility:** Values can be easily added, updated, or removed using their keys.\n",
                "- **Representing Real-World Objects:** Dictionaries are excellent for representing objects or records with named attributes (e.g., a person with 'name', 'age', 'city')."
            ]
        },
        {
            "cell_type": "markdown",
            "metadata": {},
            "source": [
                "### 12. Describe a scenario where using a tuple would be preferable over a list.\n",
                "\n",
                "**Answer:** A tuple would be preferable over a list when you need to represent a fixed collection of related items that should not change, ensuring data integrity.\n",
                "\n",
                "**Scenario:** Storing geographical coordinates (latitude, longitude) or RGB color values. These are inherently fixed sets of values that, once defined, should not be altered. Using a tuple `(latitude, longitude)` or `(red, green, blue)` ensures that the coordinates or color components remain constant and cannot be accidentally modified. Tuples can also be used as dictionary keys, unlike lists, which is useful if you want to map data to specific coordinates or colors."
            ]
        },
        {
            "cell_type": "markdown",
            "metadata": {},
            "source": [
                "### 13. How do sets handle duplicate values in Python?\n",
                "\n",
                "**Answer:** Sets in Python automatically handle duplicate values by **discarding them**. When you add elements to a set, if an element already exists, the set simply ignores the new addition. This ensures that every element within a set is unique. If you create a set from an iterable containing duplicates, the resulting set will only contain one instance of each unique element.```python\n",
                "my_list_with_duplicates = [1, 2, 2, 3, 1, 4]\n",
                "my_set = set(my_list_with_duplicates)\n",
                "print(my_set) # Output: {1, 2, 3, 4}\n",
                "```"
            ]
        },
        {
            "cell_type": "markdown",
            "metadata": {},
            "source": [
                "### 14. How does the \"in\" keyword work differently for lists and dictionaries?\n",
                "\n",
                "**Answer:** The `in` keyword is used for membership testing, but its behavior differs based on the data structure:\n",
                "- **For Lists:** `element in my_list` checks if `element` is present as a *value* in the list. It performs a linear search, so its time complexity is O(n) in the worst case.\n",
                "- **For Dictionaries:** `key in my_dict` checks if `key` is present as a *key* in the dictionary. It does not check for values. Due to the hash table implementation, its average time complexity is O(1).```python\n",
                "my_list = [1, 2, 3]\n",
                "print(1 in my_list)    # True\n",
                "print(4 in my_list)    # False\n",
                "\n",
                "my_dict = {'a': 1, 'b': 2}\n",
                "print('a' in my_dict)  # True (checks for key 'a')\n",
                "print(1 in my_dict)    # False (does not check for value 1)\n",
                "```"
            ]
        },
        {
            "cell_type": "markdown",
            "metadata": {},
            "source": [
                "### 15. Can you modify the elements of a tuple? Explain why or why not.\n",
                "\n",
                "**Answer:** No, you cannot modify the elements of a tuple after it has been created. Tuples are **immutable** data types in Python. This means that once a tuple object is formed in memory, its contents (the elements it holds) cannot be changed, added, or removed. Any operation that appears to modify a tuple, such as concatenation, actually results in the creation of a *new* tuple object. This immutability ensures data integrity and allows tuples to be used as dictionary keys."
            ]
        },
        {
            "cell_type": "markdown",
            "metadata": {},
            "source": [
                "### 16. What is a nested dictionary, and give an example of its use case?\n",
                "\n",
                "**Answer:** A **nested dictionary** is a dictionary where the values are themselves dictionaries. This allows for hierarchical data storage, representing more complex relationships.\n",
                "\n",
                "**Use Case Example:** Storing information about multiple students, where each student has their own details (name, age, courses, grades). Each student's record can be a dictionary, and these student dictionaries can be values in a larger dictionary, with student IDs as keys.\n",
                "```python\n",
                "students = {\n",
                "    'S001': {\n",
                "        'name': 'Alice',\n",
                "        'age': 20,\n",
                "        'courses': {\n",
                "            'Math': 'A',\n",
                "            'Physics': 'B'\n",
                "        }\n",
                "    },\n",
                "    'S002': {\n",
                "        'name': 'Bob',\n",
                "        'age': 22,\n",
                "        'courses': {\n",
                "            'Chemistry': 'C',\n",
                "            'Biology': 'A'\n",
                "        }\n",
                "    }\n",
                "}\n",
                "\n",
                "print(students['S001']['name'])          # Output: Alice\n",
                "print(students['S002']['courses']['Biology']) # Output: A\n",
                "```"
            ]
        },
        {
            "cell_type": "markdown",
            "metadata": {},
            "source": [
                "### 17. Describe the time complexity of accessing elements in a dictionary.\n",
                "\n",
                "**Answer:** The time complexity of accessing elements in a dictionary (lookup, insertion, deletion by key) is:\n",
                "- **Average Case: O(1) (Constant Time)**: This is because dictionaries are implemented using hash tables. The hash function quickly calculates the memory location for a given key, allowing direct access to the value.\n",
                "- **Worst Case: O(n) (Linear Time)**: This can occur in rare situations, primarily due to hash collisions. If many keys hash to the same bucket, the dictionary might degrade to a linear search within that bucket, making the operation proportional to the number of elements (n) in that bucket. However, Python's dictionary implementation is highly optimized to minimize collisions, so the worst case is rarely encountered in practice."
            ]
        },
        {
            "cell_type": "markdown",
            "metadata": {},
            "source": [
                "### 18. In what situations are lists preferred over dictionaries?\n",
                "\n",
                "**Answer:** Lists are preferred over dictionaries in situations where:\n",
                "- **Order Matters:** When the order of elements is significant and needs to be preserved (e.g., a sequence of events, items in a queue).\n",
                "- **Indexed Access:** When you primarily need to access elements by their integer position (index).\n",
                "- **Homogeneous Collections:** When you have a collection of similar items and don't need a descriptive key for each item.\n",
                "- **Duplicates Allowed:** When you need to store multiple occurrences of the same value.\n",
                "- **Simple Sequences:** For simple, linear collections of data where key-value mapping is unnecessary."
            ]
        },
        {
            "cell_type": "markdown",
            "metadata": {},
            "source": [
                "### 19. Why are dictionaries considered unordered, and how does that affect data retrieval?\n",
                "\n",
                "**Answer:** Historically, dictionaries in Python (prior to Python 3.7) were considered unordered because their internal implementation (hash tables) did not guarantee the order of insertion. The order of elements could vary based on hash collisions and memory allocation.\n",
                "\n",
                "**How it affects data retrieval (Historically):** If you iterated over a dictionary, the order in which items were returned was not predictable or consistent with the insertion order. You could not rely on `my_dict[0]` or `my_dict[1]` as you would with a list.\n",
                "\n",
                "**Modern Python (Python 3.7+):** Since Python 3.7, dictionaries **maintain insertion order**. While they are still fundamentally hash maps, their iteration order is now guaranteed to be the order in which items were inserted. However, the core concept of accessing elements is still by *key*, not by numerical index like a list. So, while iteration order is preserved, you still access elements using `my_dict['key']` rather than `my_dict[0]`."
            ]
        },
        {
            "cell_type": "markdown",
            "metadata": {},
            "source": [
                "### 20. Explain the difference between a list and a dictionary in terms of data retrieval.\n",
                "\n",
                "**Answer:**\n",
                "- **List Data Retrieval:** Elements in a list are retrieved by their **integer index** (position). The first element is at index 0, the second at index 1, and so on. Retrieval is `O(1)` for direct index access, but searching for a specific *value* by iterating through the list is `O(n)`.\n",
                "  ```python\n",
                "  my_list = ['apple', 'banana', 'cherry']\n",
                "  print(my_list[1]) # Retrieves 'banana' by index\n",
                "  ```\n",
                "- **Dictionary Data Retrieval:** Elements in a dictionary are retrieved by their **unique, immutable key**. You provide the key, and the dictionary returns the associated value. Retrieval by key has an average-case time complexity of `O(1)` due to its hash table implementation.\n",
                "  ```python\n",
                "  my_dict = {'fruit': 'apple', 'color': 'red'}\n",
                "  print(my_dict['fruit']) # Retrieves 'apple' by key\n",
                "  ```"
            ]
        },
        {
            "cell_type": "markdown",
            "metadata": {},
            "source": [
                "## Practical Questions"
            ]
        },
        {
            "cell_type": "markdown",
            "metadata": {},
            "source": [
                "### 1. Write a code to create a string with your name and print it."
            ]
        },
        {
            "cell_type": "code",
            "execution_count": 1,
            "metadata": {},
            "outputs": [
                {
                    "name": "stdout",
                    "output_type": "stream",
                    "text": [
                        "Prathamesh Wadekar\n"
                    ]
                }
            ],
            "source": [
                "my_name = \"Prathamesh Wadekar\"\n",
                "print(my_name)"
            ]
        },
        {
            "cell_type": "markdown",
            "metadata": {},
            "source": [
                "### 2. Write a code to find the length of the string \"Hello World\"."
            ]
        },
        {
            "cell_type": "code",
            "execution_count": 2,
            "metadata": {},
            "outputs": [
                {
                    "name": "stdout",
                    "output_type": "stream",
                    "text": [
                        "The length of the string 'Hello World' is: 11\n"
                    ]
                }
            ],
            "source": [
                "my_string = \"Hello World\"\n",
                "length = len(my_string)\n",
                "print(f\"The length of the string '{my_string}' is: {length}\")"
            ]
        },
        {
            "cell_type": "markdown",
            "metadata": {},
            "source": [
                "### 3. Write a code to slice the first 3 characters from the string \"Python Programming\"."
            ]
        },
        {
            "cell_type": "code",
            "execution_count": 3,
            "metadata": {},
            "outputs": [
                {
                    "name": "stdout",
                    "output_type": "stream",
                    "text": [
                        "Original string: 'Python Programming'\n",
                        "First 3 characters: 'Pyt'\n"
                    ]
                }
            ],
            "source": [
                "original_string = \"Python Programming\"\n",
                "sliced_string = original_string[0:3] # or simply original_string[:3]\n",
                "print(f\"Original string: '{original_string}'\")\n",
                "print(f\"First 3 characters: '{sliced_string}'\")"
            ]
        },
        {
            "cell_type": "markdown",
            "metadata": {},
            "source": [
                "### 4. Write a code to convert the string \"hello\" to uppercase."
            ]
        },
        {
            "cell_type": "code",
            "execution_count": 4,
            "metadata": {},
            "outputs": [
                {
                    "name": "stdout",
                    "output_type": "stream",
                    "text": [
                        "Original string: 'hello'\n",
                        "Uppercase string: 'HELLO'\n"
                    ]
                }
            ],
            "source": [
                "lower_string = \"hello\"\n",
                "upper_string = lower_string.upper()\n",
                "print(f\"Original string: '{lower_string}'\")\n",
                "print(f\"Uppercase string: '{upper_string}'\")"
            ]
        },
        {
            "cell_type": "markdown",
            "metadata": {},
            "source": [
                "### 5. Write a code to replace the word \"apple\" with \"orange\" in the string \"I like apple\"."
            ]
        },
        {
            "cell_type": "code",
            "execution_count": 5,
            "metadata": {},
            "outputs": [
                {
                    "name": "stdout",
                    "output_type": "stream",
                    "text": [
                        "Original sentence: 'I like apple'\n",
                        "Modified sentence: 'I like orange'\n"
                    ]
                }
            ],
            "source": [
                "original_sentence = \"I like apple\"\n",
                "new_sentence = original_sentence.replace(\"apple\", \"orange\")\n",
                "print(f\"Original sentence: '{original_sentence}'\")\n",
                "print(f\"Modified sentence: '{new_sentence}'\")"
            ]
        },
        {
            "cell_type": "markdown",
            "metadata": {},
            "source": [
                "### 6. Write a code to create a list with numbers 1 to 5 and print it."
            ]
        },
        {
            "cell_type": "code",
            "execution_count": 6,
            "metadata": {},
            "outputs": [
                {
                    "name": "stdout",
                    "output_type": "stream",
                    "text": [
                        "[1, 2, 3, 4, 5]\n"
                    ]
                }
            ],
            "source": [
                "my_list = [1, 2, 3, 4, 5]\n",
                "print(my_list)"
            ]
        },
        {
            "cell_type": "markdown",
            "metadata": {},
            "source": [
                "### 7. Write a code to append the number 10 to the list [1, 2, 3, 4]."
            ]
        },
        {
            "cell_type": "code",
            "execution_count": 7,
            "metadata": {},
            "outputs": [
                {
                    "name": "stdout",
                    "output_type": "stream",
                    "text": [
                        "Original list: [1, 2, 3, 4]\n",
                        "List after appending 10: [1, 2, 3, 4, 10]\n"
                    ]
                }
            ],
            "source": [
                "my_list = [1, 2, 3, 4]\n",
                "print(f\"Original list: {my_list}\")\n",
                "my_list.append(10)\n",
                "print(f\"List after appending 10: {my_list}\")"
            ]
        },
        {
            "cell_type": "markdown",
            "metadata": {},
            "source": [
                "### 8. Write a code to remove the number 3 from the list [1, 2, 3, 4, 5]."
            ]
        },
        {
            "cell_type": "code",
            "execution_count": 8,
            "metadata": {},
            "outputs": [
                {
                    "name": "stdout",
                    "output_type": "stream",
                    "text": [
                        "Original list: [1, 2, 3, 4, 5]\n",
                        "List after removing 3: [1, 2, 4, 5]\n"
                    ]
                }
            ],
            "source": [
                "my_list = [1, 2, 3, 4, 5]\n",
                "print(f\"Original list: {my_list}\")\n",
                "my_list.remove(3)\n",
                "print(f\"List after removing 3: {my_list}\")"
            ]
        },
        {
            "cell_type": "markdown",
            "metadata": {},
            "source": [
                "### 9. Write a code to access the second element in the list ['a', 'b', 'c', 'd']."
            ]
        },
        {
            "cell_type": "code",
            "execution_count": 9,
            "metadata": {},
            "outputs": [
                {
                    "name": "stdout",
                    "output_type": "stream",
                    "text": [
                        "The list is: ['a', 'b', 'c', 'd']\n",
                        "The second element is: 'b'\n"
                    ]
                }
            ],
            "source": [
                "my_list = ['a', 'b', 'c', 'd']\n",
                "second_element = my_list[1] # Lists are 0-indexed\n",
                "print(f\"The list is: {my_list}\")\n",
                "print(f\"The second element is: '{second_element}'\")"
            ]
        },
        {
            "cell_type": "markdown",
            "metadata": {},
            "source": [
                "### 10. Write a code to reverse the list [10, 20, 30, 40, 50]."
            ]
        },
        {
            "cell_type": "code",
            "execution_count": 10,
            "metadata": {},
            "outputs": [
                {
                    "name": "stdout",
                    "output_type": "stream",
                    "text": [
                        "Original list: [10, 20, 30, 40, 50]\n",
                        "Reversed list: [50, 40, 30, 20, 10]\n",
                        "Original (another) list: [100, 200, 300]\n",
                        "Reversed (new) list using slicing: [300, 200, 100]\n"
                    ]
                }
            ],
            "source": [
                "my_list = [10, 20, 30, 40, 50]\n",
                "print(f\"Original list: {my_list}\")\n",
                "my_list.reverse() # Reverses the list in-place\n",
                "print(f\"Reversed list: {my_list}\")\n",
                "\n",
                "# Alternative using slicing (creates a new list)\n",
                "another_list = [100, 200, 300]\n",
                "reversed_another_list = another_list[::-1]\n",
                "print(f\"Original (another) list: {another_list}\")\n",
                "print(f\"Reversed (new) list using slicing: {reversed_another_list}\")"
            ]
        },
        {
            "cell_type": "markdown",
            "metadata": {},
            "source": [
                "### 11. Write a code to create a tuple with the elements 100, 200, 300 and print it."
            ]
        },
        {
            "cell_type": "code",
            "execution_count": 11,
            "metadata": {},
            "outputs": [
                {
                    "name": "stdout",
                    "output_type": "stream",
                    "text": [
                        "(100, 200, 300)\n"
                    ]
                }
            ],
            "source": [
                "my_tuple = (100, 200, 300)\n",
                "print(my_tuple)"
            ]
        },
        {
            "cell_type": "markdown",
            "metadata": {},
            "source": [
                "### 12. Write a code to access the second-to-last element of the tuple ('red', 'green', 'blue', 'yellow')."
            ]
        },
        {
            "cell_type": "code",
            "execution_count": 12,
            "metadata": {},
            "outputs": [
                {
                    "name": "stdout",
                    "output_type": "stream",
                    "text": [
                        "The tuple is: ('red', 'green', 'blue', 'yellow')\n",
                        "The second-to-last element is: 'blue'\n"
                    ]
                }
            ],
            "source": [
                "my_tuple = ('red', 'green', 'blue', 'yellow')\n",
                "second_to_last_element = my_tuple[-2]\n",
                "print(f\"The tuple is: {my_tuple}\")\n",
                "print(f\"The second-to-last element is: '{second_to_last_element}'\")"
            ]
        },
        {
            "cell_type": "markdown",
            "metadata": {},
            "source": [
                "### 13. Write a code to find the minimum number in the tuple (10, 20, 5, 15)."
            ]
        },
        {
            "cell_type": "code",
            "execution_count": 13,
            "metadata": {},
            "outputs": [
                {
                    "name": "stdout",
                    "output_type": "stream",
                    "text": [
                        "The tuple is: (10, 20, 5, 15)\n",
                        "The minimum number is: 5\n"
                    ]
                }
            ],
            "source": [
                "my_tuple = (10, 20, 5, 15)\n",
                "min_number = min(my_tuple)\n",
                "print(f\"The tuple is: {my_tuple}\")\n",
                "print(f\"The minimum number is: {min_number}\")"
            ]
        },
        {
            "cell_type": "markdown",
            "metadata": {},
            "source": [
                "### 14. Write a code to find the index of the element \"cat\" in the tuple ('dog', 'cat', 'rabbit')."
            ]
        },
        {
            "cell_type": "code",
            "execution_count": 14,
            "metadata": {},
            "outputs": [
                {
                    "name": "stdout",
                    "output_type": "stream",
                    "text": [
                        "The tuple is: ('dog', 'cat', 'rabbit')\n",
                        "The index of 'cat' is: 1\n"
                    ]
                }
            ],
            "source": [
                "my_tuple = ('dog', 'cat', 'rabbit')\n",
                "index_of_cat = my_tuple.index('cat')\n",
                "print(f\"The tuple is: {my_tuple}\")\n",
                "print(f\"The index of 'cat' is: {index_of_cat}\")"
            ]
        },
        {
            "cell_type": "markdown",
            "metadata": {},
            "source": [
                "### 15. Write a code to create a tuple containing three different fruits and check if \"kiwi\" is in it."
            ]
        },
        {
            "cell_type": "code",
            "execution_count": 15,
            "metadata": {},
            "outputs": [
                {
                    "name": "stdout",
                    "output_type": "stream",
                    "text": [
                        "The fruits tuple is: ('apple', 'banana', 'orange')\n",
                        "Kiwi is NOT in the tuple.\n",
                        "The fruits tuple (with kiwi) is: ('apple', 'kiwi', 'grape')\n",
                        "Kiwi is in the tuple (with kiwi).\n"
                    ]
                }
            ],
            "source": [
                "fruits_tuple = (\"apple\", \"banana\", \"orange\")\n",
                "print(f\"The fruits tuple is: {fruits_tuple}\")\n",
                "if \"kiwi\" in fruits_tuple:\n",
                "    print(\"Kiwi is in the tuple.\")\n",
                "else:\n",
                "    print(\"Kiwi is NOT in the tuple.\")\n",
                "\n",
                "# Example where kiwi is present\n",
                "fruits_tuple_with_kiwi = (\"apple\", \"kiwi\", \"grape\")\n",
                "print(f\"The fruits tuple (with kiwi) is: {fruits_tuple_with_kiwi}\")\n",
                "if \"kiwi\" in fruits_tuple_with_kiwi:\n",
                "    print(\"Kiwi is in the tuple (with kiwi).\")"
            ]
        },
        {
            "cell_type": "markdown",
            "metadata": {},
            "source": [
                "### 16. Write a code to create a set with the elements 'a', 'b', 'c' and print it."
            ]
        },
        {
            "cell_type": "code",
            "execution_count": 16,
            "metadata": {},
            "outputs": [
                {
                    "name": "stdout",
                    "output_type": "stream",
                    "text": [
                        "{'b', 'c', 'a'}\n"
                    ]
                }
            ],
            "source": [
                "my_set = {'a', 'b', 'c'}\n",
                "print(my_set)"
            ]
        },
        {
            "cell_type": "markdown",
            "metadata": {},
            "source": [
                "### 17. Write a code to clear all elements from the set {1, 2, 3, 4, 5}."
            ]
        },
        {
            "cell_type": "code",
            "execution_count": 17,
            "metadata": {},
            "outputs": [
                {
                    "name": "stdout",
                    "output_type": "stream",
                    "text": [
                        "Original set: {1, 2, 3, 4, 5}\n",
                        "Set after clearing: set()\n"
                    ]
                }
            ],
            "source": [
                "my_set = {1, 2, 3, 4, 5}\n",
                "print(f\"Original set: {my_set}\")\n",
                "my_set.clear()\n",
                "print(f\"Set after clearing: {my_set}\")"
            ]
        },
        {
            "cell_type": "markdown",
            "metadata": {},
            "source": [
                "### 18. Write a code to remove the element 4 from the set {1, 2, 3, 4}."
            ]
        },
        {
            "cell_type": "code",
            "execution_count": 18,
            "metadata": {},
            "outputs": [
                {
                    "name": "stdout",
                    "output_type": "stream",
                    "text": [
                        "Original set: {1, 2, 3, 4}\n",
                        "Set after removing 4: {1, 2, 3}\n",
                        "Original (another) set: {5, 6, 7}\n",
                        "Set after trying to discard 8: {5, 6, 7}\n"
                    ]
                }
            ],
            "source": [
                "my_set = {1, 2, 3, 4}\n",
                "print(f\"Original set: {my_set}\")\n",
                "my_set.remove(4)\n",
                "print(f\"Set after removing 4: {my_set}\")\n",
                "\n",
                "# Using discard() which doesn't raise an error if element not found\n",
                "another_set = {5, 6, 7}\n",
                "print(f\"Original (another) set: {another_set}\")\n",
                "another_set.discard(8) # No error, 8 is not in the set\n",
                "print(f\"Set after trying to discard 8: {another_set}\")"
            ]
        },
        {
            "cell_type": "markdown",
            "metadata": {},
            "source": [
                "### 19. Write a code to find the union of two sets {1, 2, 3} and {3, 4, 5}."
            ]
        },
        {
            "cell_type": "code",
            "execution_count": 19,
            "metadata": {},
            "outputs": [
                {
                    "name": "stdout",
                    "output_type": "stream",
                    "text": [
                        "Set 1: {1, 2, 3}\n",
                        "Set 2: {3, 4, 5}\n",
                        "Union of sets: {1, 2, 3, 4, 5}\n"
                    ]
                }
            ],
            "source": [
                "set1 = {1, 2, 3}\n",
                "set2 = {3, 4, 5}\n",
                "union_set = set1.union(set2) # or set1 | set2\n",
                "print(f\"Set 1: {set1}\")\n",
                "print(f\"Set 2: {set2}\")\n",
                "print(f\"Union of sets: {union_set}\")"
            ]
        },
        {
            "cell_type": "markdown",
            "metadata": {},
            "source": [
                "### 20. Write a code to find the intersection of two sets {1, 2, 3} and {2, 3, 4}."
            ]
        },
        {
            "cell_type": "code",
            "execution_count": 20,
            "metadata": {},
            "outputs": [
                {
                    "name": "stdout",
                    "output_type": "stream",
                    "text": [
                        "Set 1: {1, 2, 3}\n",
                        "Set 2: {2, 3, 4}\n",
                        "Intersection of sets: {2, 3}\n"
                    ]
                }
            ],
            "source": [
                "set1 = {1, 2, 3}\n",
                "set2 = {2, 3, 4}\n",
                "intersection_set = set1.intersection(set2) # or set1 & set2\n",
                "print(f\"Set 1: {set1}\")\n",
                "print(f\"Set 2: {set2}\")\n",
                "print(f\"Intersection of sets: {intersection_set}\")"
            ]
        },
        {
            "cell_type": "markdown",
            "metadata": {},
            "source": [
                "### 21. Write a code to create a dictionary with the keys \"name\", \"age\", and \"city\", and print it."
            ]
        },
        {
            "cell_type": "code",
            "execution_count": 21,
            "metadata": {},
            "outputs": [
                {
                    "name": "stdout",
                    "output_type": "stream",
                    "text": [
                        "{'name': 'John Doe', 'age': 30, 'city': 'New York'}\n"
                    ]
                }
            ],
            "source": [
                "my_dict = {\n",
                "    \"name\": \"John Doe\",\n",
                "    \"age\": 30,\n",
                "    \"city\": \"New York\"\n",
                "}\n",
                "print(my_dict)"
            ]
        },
        {
            "cell_type": "markdown",
            "metadata": {},
            "source": [
                "### 22. Write a code to add a new key-value pair \"country\": \"USA\" to the dictionary {'name': 'John', 'age': 25}."
            ]
        },
        {
            "cell_type": "code",
            "execution_count": 22,
            "metadata": {},
            "outputs": [
                {
                    "name": "stdout",
                    "output_type": "stream",
                    "text": [
                        "Original dictionary: {'name': 'John', 'age': 25}\n",
                        "Dictionary after adding 'country': {'name': 'John', 'age': 25, 'country': 'USA'}\n"
                    ]
                }
            ],
            "source": [
                "my_dict = {'name': 'John', 'age': 25}\n",
                "print(f\"Original dictionary: {my_dict}\")\n",
                "my_dict[\"country\"] = \"USA\"\n",
                "print(f\"Dictionary after adding 'country': {my_dict}\")"
            ]
        },
        {
            "cell_type": "markdown",
            "metadata": {},
            "source": [
                "### 23. Write a code to access the value associated with the key \"name\" in the dictionary {'name': 'Alice', 'age': 30}."
            ]
        },
        {
            "cell_type": "code",
            "execution_count": 23,
            "metadata": {},
            "outputs": [
                {
                    "name": "stdout",
                    "output_type": "stream",
                    "text": [
                        "The dictionary is: {'name': 'Alice', 'age': 30}\n",
                        "The value for key 'name' is: 'Alice'\n"
                    ]
                }
            ],
            "source": [
                "my_dict = {'name': 'Alice', 'age': 30}\n",
                "name_value = my_dict[\"name\"] # or my_dict.get(\"name\")\n",
                "print(f\"The dictionary is: {my_dict}\")\n",
                "print(f\"The value for key 'name' is: '{name_value}'\")"
            ]
        },
        {
            "cell_type": "markdown",
            "metadata": {},
            "source": [
                "### 24. Write a code to remove the key \"age\" from the dictionary {'name': 'Bob', 'age': 22, 'city': 'New York'}."
            ]
        },
        {
            "cell_type": "code",
            "execution_count": 24,
            "metadata": {},
            "outputs": [
                {
                    "name": "stdout",
                    "output_type": "stream",
                    "text": [
                        "Original dictionary: {'name': 'Bob', 'age': 22, 'city': 'New York'}\n",
                        "Dictionary after removing 'age': {'name': 'Bob', 'city': 'New York'}\n",
                        "Original (another) dictionary: {'item': 'book', 'price': 15}\n",
                        "Removed price: 15\n",
                        "Dictionary after popping 'price': {'item': 'book'}\n"
                    ]
                }
            ],
            "source": [
                "my_dict = {'name': 'Bob', 'age': 22, 'city': 'New York'}\n",
                "print(f\"Original dictionary: {my_dict}\")\n",
                "del my_dict[\"age\"]\n",
                "print(f\"Dictionary after removing 'age': {my_dict}\")\n",
                "\n",
                "# Alternative using pop() which returns the removed value\n",
                "another_dict = {'item': 'book', 'price': 15}\n",
                "print(f\"Original (another) dictionary: {another_dict}\")\n",
                "removed_price = another_dict.pop('price')\n",
                "print(f\"Removed price: {removed_price}\")\n",
                "print(f\"Dictionary after popping 'price': {another_dict}\")"
            ]
        },
        {
            "cell_type": "markdown",
            "metadata": {},
            "source": [
                "### 25. Write a code to check if the key \"city\" exists in the dictionary {'name': 'Alice', 'city': 'Paris'}."
            ]
        },
        {
            "cell_type": "code",
            "execution_count": 25,
            "metadata": {},
            "outputs": [
                {
                    "name": "stdout",
                    "output_type": "stream",
                    "text": [
                        "The dictionary is: {'name': 'Alice', 'city': 'Paris'}\n",
                        "The key 'city' exists in the dictionary.\n",
                        "The (another) dictionary is: {'name': 'Bob', 'age': 25}\n",
                        "The key 'country' does NOT exist in the dictionary (another).\n"
                    ]
                }
            ],
            "source": [
                "my_dict = {'name': 'Alice', 'city': 'Paris'}\n",
                "print(f\"The dictionary is: {my_dict}\")\n",
                "if \"city\" in my_dict:\n",
                "    print(\"The key 'city' exists in the dictionary.\")\n",
                "else:\n",
                "    print(\"The key 'city' does NOT exist in the dictionary.\")\n",
                "\n",
                "# Example where key does not exist\n",
                "another_dict = {'name': 'Bob', 'age': 25}\n",
                "print(f\"The (another) dictionary is: {another_dict}\")\n",
                "if \"country\" in another_dict:\n",
                "    print(\"The key 'country' exists in the dictionary (another).\")\n",
                "else:\n",
                "    print(\"The key 'country' does NOT exist in the dictionary (another).\")"
            ]
        },
        {
            "cell_type": "markdown",
            "metadata": {},
            "source": [
                "### 26. Write a code to create a list, a tuple, and a dictionary, and print them all."
            ]
        },
        {
            "cell_type": "code",
            "execution_count": 26,
            "metadata": {},
            "outputs": [
                {
                    "name": "stdout",
                    "output_type": "stream",
                    "text": [
                        "My List: [1, 'two', 3.0]\n",
                        "My Tuple: ('apple', 'banana', 'cherry')\n",
                        "My Dictionary: {'name': 'Charlie', 'id': 101, 'active': True}\n"
                    ]
                }
            ],
            "source": [
                "my_list = [1, \"two\", 3.0]\n",
                "my_tuple = (\"apple\", \"banana\", \"cherry\")\n",
                "my_dictionary = {\n",
                "    \"name\": \"Charlie\",\n",
                "    \"id\": 101,\n",
                "    \"active\": True\n",
                "}\n",
                "\n",
                "print(f\"My List: {my_list}\")\n",
                "print(f\"My Tuple: {my_tuple}\")\n",
                "print(f\"My Dictionary: {my_dictionary}\")"
            ]
        },
        {
            "cell_type": "markdown",
            "metadata": {},
            "source": [
                "### 27. Write a code to create a list of 5 random numbers between 1 and 100, sort it in ascending order, and print the result."
            ]
        },
        {
            "cell_type": "code",
            "execution_count": 27,
            "metadata": {},
            "outputs": [
                {
                    "name": "stdout",
                    "output_type": "stream",
                    "text": [
                        "Original random numbers: [50, 45, 87, 65, 17]\n",
                        "Sorted random numbers (ascending): [17, 45, 50, 65, 87]\n",
                        "Another original random list: [77, 23, 93, 4, 24]\n",
                        "New sorted list (ascending): [4, 23, 24, 77, 93]\n"
                    ]
                }
            ],
            "source": [
                "import random\n",
                "\n",
                "# Create a list of 5 random numbers\n",
                "random_numbers = [random.randint(1, 100) for _ in range(5)]\n",
                "print(f\"Original random numbers: {random_numbers}\")\n",
                "\n",
                "# Sort the list in ascending order (in-place)\n",
                "random_numbers.sort()\n",
                "print(f\"Sorted random numbers (ascending): {random_numbers}\")\n",
                "\n",
                "# Alternative using sorted() (creates a new sorted list)\n",
                "another_random_list = [random.randint(1, 100) for _ in range(5)]\n",
                "print(f\"Another original random list: {another_random_list}\")\n",
                "sorted_new_list = sorted(another_random_list)\n",
                "print(f\"New sorted list (ascending): {sorted_new_list}\")"
            ]
        },
        {
            "cell_type": "markdown",
            "metadata": {},
            "source": [
                "### 28. Write a code to create a list with strings and print the element at the third index."
            ]
        },
        {
            "cell_type": "code",
            "execution_count": 28,
            "metadata": {},
            "outputs": [
                {
                    "name": "stdout",
                    "output_type": "stream",
                    "text": [
                        "The list of strings is: ['red', 'green', 'blue', 'yellow', 'purple']\n",
                        "The element at the third index is: 'yellow'\n"
                    ]
                }
            ],
            "source": [
                "string_list = [\"red\", \"green\", \"blue\", \"yellow\", \"purple\"]\n",
                "print(f\"The list of strings is: {string_list}\")\n",
                "# The third index corresponds to the fourth element (0, 1, 2, 3)\n",
                "element_at_third_index = string_list[3]\n",
                "print(f\"The element at the third index is: '{element_at_third_index}'\")"
            ]
        },
        {
            "cell_type": "markdown",
            "metadata": {},
            "source": [
                "### 29. Write a code to combine two dictionaries into one and print the result."
            ]
        },
        {
            "cell_type": "code",
            "execution_count": 29,
            "metadata": {},
            "outputs": [
                {
                    "name": "stdout",
                    "output_type": "stream",
                    "text": [
                        "Dictionary 1: {'a': 1, 'b': 2}\n",
                        "Dictionary 2: {'c': 3, 'd': 4}\n",
                        "Combined dictionary (using update()): {'a': 1, 'b': 2, 'c': 3, 'd': 4}\n",
                        "Combined dictionary (using ** operator): {'a': 1, 'b': 2, 'c': 3, 'd': 4}\n",
                        "Combined dictionary (using | operator): {'a': 1, 'b': 2, 'c': 3, 'd': 4}\n"
                    ]
                }
            ],
            "source": [
                "dict1 = {\"a\": 1, \"b\": 2}\n",
                "dict2 = {\"c\": 3, \"d\": 4}\n",
                "\n",
                "# Method 1: Using update()\n",
                "combined_dict_update = dict1.copy() # Create a copy to avoid modifying dict1 directly\n",
                "combined_dict_update.update(dict2)\n",
                "print(f\"Dictionary 1: {dict1}\")\n",
                "print(f\"Dictionary 2: {dict2}\")\n",
                "print(f\"Combined dictionary (using update()): {combined_dict_update}\")\n",
                "\n",
                "# Method 2: Using the ** operator (Python 3.5+)\n",
                "combined_dict_unpacking = {**dict1, **dict2}\n",
                "print(f\"Combined dictionary (using ** operator): {combined_dict_unpacking}\")\n",
                "\n",
                "# Method 3: Using | operator (Python 3.9+)\n",
                "combined_dict_union = dict1 | dict2\n",
                "print(f\"Combined dictionary (using | operator): {combined_dict_union}\")"
            ]
        },
        {
            "cell_type": "markdown",
            "metadata": {},
            "source": [
                "### 30. Write a code to convert a list of strings into a set."
            ]
        },
        {
            "cell_type": "code",
            "execution_count": 30,
            "metadata": {},
            "outputs": [
                {
                    "name": "stdout",
                    "output_type": "stream",
                    "text": [
                        "Original list of strings: ['apple', 'banana', 'apple', 'cherry', 'banana']\n",
                        "Converted set of strings: {'banana', 'apple', 'cherry'}\n"
                    ]
                }
            ],
            "source": [
                "list_of_strings = [\"apple\", \"banana\", \"apple\", \"cherry\", \"banana\"]\n",
                "print(f\"Original list of strings: {list_of_strings}\")\n",
                "\n",
                "set_of_strings = set(list_of_strings)\n",
                "print(f\"Converted set of strings: {set_of_strings}\")"
            ]
        }
    ],
    "metadata": {
        "colab": {
            "collapsed_sections": [],
            "name": "Data_Types_and_Structures_Assignment_Answers.ipynb",
            "provenance": []
        },
        "kernelspec": {
            "display_name": ".venv",
            "language": "python",
            "name": "python3"
        },
        "language_info": {
            "codemirror_mode": {
                "name": "ipython",
                "version": 3
            },
            "file_extension": ".py",
            "mimetype": "text/x-python",
            "name": "python",
            "nbconvert_exporter": "python",
            "pygments_lexer": "ipython3",
            "version": "3.11.9"
        }
    },
    "nbformat": 4,
    "nbformat_minor": 5
}
