{
  "nbformat": 4,
  "nbformat_minor": 0,
  "metadata": {
    "colab": {
      "provenance": []
    },
    "kernelspec": {
      "name": "python3",
      "display_name": "Python 3"
    },
    "language_info": {
      "name": "python"
    }
  },
  "cells": [
    {
      "cell_type": "markdown",
      "source": [
        "#Basics of Python: Assignment 1"
      ],
      "metadata": {
        "id": "ADvRLRC7IXtr"
      }
    },
    {
      "cell_type": "markdown",
      "source": [
        "1. What is Python, and why is it popular?\n",
        "- Python is user friendly programming language which is interpreter based. Python was developed by Guido Van Rossum. Python is famous because it is easy to learn beginner friendly programming language, it has simple syntax and has various labraries which makes it popular.\n",
        "\n",
        "2. What is an interpreter in Python ?\n",
        "- An interpreter is a program in python that runs code line-by-line.\n",
        "\n",
        "3. What are pre-defined keywords in Python?\n",
        "- In python, we have reserved keywords which has meaning and it cannot be used to declare a variable name. Examples of keywords could be return, def, if, else, for, class, break, continue etc.\n",
        "\n",
        "4. Can keywords be used as variable names ?\n",
        "- No, keywords cannot be used to declare variable names as they are reserved.\n",
        "\n",
        "5. What is mutability in Python ?\n",
        "- Mutuality in python means an objects ability to change its value after they are created. Example: List in python is mutable and tuples are immutable\n",
        "\n",
        "6. Why are lists mutable, but tuples are immutable?\n",
        "- List are designed to be flexible i.e they values can be modified or changes even after they are created while tuples are immutable which means they value cannot be modified once they are declared.\n",
        "\n",
        "7. What is the difference between “==” and “is” operators in Python ?\n",
        "- In python, \"==\" operator checks if given 2 values are equal or not while \"is\" operator checks if 2 variables are pointing to same memory location.\n",
        "\n",
        "8. What are logical operators in Python ?\n",
        "- Logical operators in python are used to check conditions and returns values as \"True\" or \"False\". Example: AND, OR, NOT\n",
        "\n",
        "9. What is type casting in Python?\n",
        "- Type casting in Python refers to converting a variable from one data type to another. This is useful when you need to perform operations that require variables to be in a specific type, like converting a string to an integer for mathematical calculations.\n",
        "\n",
        "10. What is the difference between implicit and explicit type casting?\n",
        "- In python, implicit type casting automatically converts one data type to another when it is ideal condition whereas in explicit type casting we manually convert data types using built in function like int(), float(), str() within python.\n",
        "\n",
        "11. What is the purpose of conditional statements in Python ?\n",
        "- In Python, conditional statements are used to make decisions in your code based on whether a condition is True or False. They allow your program to react differently depending on the input or situation.\n",
        "\n",
        "12. How does the elif statement work ?\n",
        "- The elif statement in Python stands for \"else if\". It allows you to check multiple conditions in sequence after an initial if statement. It's used when you want to test several different possibilities and execute different blocks of code depending on which condition is true.\n",
        "\n",
        "13. What is the difference between for and while loops?\n",
        "- We use \"for\" loop when we know how many times the code must run whereas we use \"while\" loop when we want our code to run until the condition becomes false.\n",
        "\n",
        "14. Describe a scenario where a while loop is more suitable than a for loop?\n",
        "- while loop is more suitable than a for loop when we are waiting for user input or monitoring a condition that could change at any time, and we don’t know in advance how many times we will need to repeat the action."
      ],
      "metadata": {
        "id": "ZlCQ-kIkI99E"
      }
    },
    {
      "cell_type": "code",
      "source": [
        "#Write a Python program to print \"Hello, World!\n",
        "print(\"Hello, World!\")"
      ],
      "metadata": {
        "colab": {
          "base_uri": "https://localhost:8080/"
        },
        "id": "C8z8DbZ3QRzl",
        "outputId": "09faf7d3-5913-4556-dd44-f7d2aeb3b131"
      },
      "execution_count": 1,
      "outputs": [
        {
          "output_type": "stream",
          "name": "stdout",
          "text": [
            "Hello, World!\n"
          ]
        }
      ]
    },
    {
      "cell_type": "code",
      "source": [
        "#Write a Python program that displays your name and age\n",
        "\n",
        "name = \"Don Jacobs\"\n",
        "age = 30\n",
        "\n",
        "print(\"My name is\", name)\n",
        "print(\"I am\", age, \"years old.\")\n"
      ],
      "metadata": {
        "colab": {
          "base_uri": "https://localhost:8080/"
        },
        "id": "RSgPthCpQgoH",
        "outputId": "0139a4df-88cc-4cdd-a52a-669c77a39cc4"
      },
      "execution_count": 2,
      "outputs": [
        {
          "output_type": "stream",
          "name": "stdout",
          "text": [
            "My name is Don Jacobs\n",
            "I am 30 years old.\n"
          ]
        }
      ]
    },
    {
      "cell_type": "code",
      "source": [
        "#Write code to print all the pre-defined keywords in Python using the keyword library\n",
        "\n",
        "\n",
        "import keyword\n",
        "keywords_list = keyword.kwlist\n",
        "print(\"Python Keywords are as follows:\")\n",
        "for kw in keywords_list:\n",
        "    print(kw)\n"
      ],
      "metadata": {
        "colab": {
          "base_uri": "https://localhost:8080/"
        },
        "id": "EetOwW0SRA67",
        "outputId": "5497f385-041f-4df1-f5f7-15bd811469ac"
      },
      "execution_count": 3,
      "outputs": [
        {
          "output_type": "stream",
          "name": "stdout",
          "text": [
            "Python Keywords are as follows:\n",
            "False\n",
            "None\n",
            "True\n",
            "and\n",
            "as\n",
            "assert\n",
            "async\n",
            "await\n",
            "break\n",
            "class\n",
            "continue\n",
            "def\n",
            "del\n",
            "elif\n",
            "else\n",
            "except\n",
            "finally\n",
            "for\n",
            "from\n",
            "global\n",
            "if\n",
            "import\n",
            "in\n",
            "is\n",
            "lambda\n",
            "nonlocal\n",
            "not\n",
            "or\n",
            "pass\n",
            "raise\n",
            "return\n",
            "try\n",
            "while\n",
            "with\n",
            "yield\n"
          ]
        }
      ]
    },
    {
      "cell_type": "code",
      "source": [
        "#Write a program that checks if a given word is a Python keyword\n",
        "\n",
        "import keyword\n",
        "\n",
        "word = input(\"Enter a word to check if it's a Python keyword: \")\n",
        "\n",
        "if keyword.iskeyword(word):\n",
        "    print(f\"'{word}' is a Python keyword.\")\n",
        "else:\n",
        "    print(f\"'{word}' is NOT a Python keyword.\")\n",
        "\n"
      ],
      "metadata": {
        "colab": {
          "base_uri": "https://localhost:8080/"
        },
        "id": "4J0bFGgPRTGI",
        "outputId": "b9fcd23a-aec5-4a74-d11e-de320fb57267"
      },
      "execution_count": 5,
      "outputs": [
        {
          "output_type": "stream",
          "name": "stdout",
          "text": [
            "Enter a word to check if it's a Python keyword: return\n",
            "'return' is a Python keyword.\n"
          ]
        }
      ]
    },
    {
      "cell_type": "code",
      "source": [
        "## Create a list and tuple in Python, and demonstrate how attempting\n",
        "#to change an element works  differently for each\n",
        "\n",
        "# Creating a list and a tuple\n",
        "my_list = [10, 20, 30]\n",
        "my_tuple = (10, 20, 30)\n",
        "\n",
        "# Modifying an element in the list\n",
        "print(\"Original list:\", my_list)\n",
        "my_list[1] = 99\n",
        "print(\"Modified list:\", my_list)\n",
        "\n",
        "# trying to modify an element in the tuple\n",
        "print(\"Original tuple:\", my_tuple)\n",
        "try:\n",
        "    my_tuple[1] = 99\n",
        "except TypeError as e:\n",
        "    print(\"Error when trying to modify tuple:\", e)\n"
      ],
      "metadata": {
        "colab": {
          "base_uri": "https://localhost:8080/"
        },
        "id": "dOPaAA8sR5Eg",
        "outputId": "acac8db8-b028-4b41-e6dd-d8464c5228b7"
      },
      "execution_count": 6,
      "outputs": [
        {
          "output_type": "stream",
          "name": "stdout",
          "text": [
            "Original list: [10, 20, 30]\n",
            "Modified list: [10, 99, 30]\n",
            "Original tuple: (10, 20, 30)\n",
            "Error when trying to modify tuple: 'tuple' object does not support item assignment\n"
          ]
        }
      ]
    },
    {
      "cell_type": "code",
      "source": [
        "#Write a function to demonstrate the behavior of mutable and immutable arguments.\n",
        "def modify_values(num, my_list):\n",
        "    num += 10\n",
        "    print(\"Inside function - num:\", num)\n",
        "\n",
        "    my_list.append(100)\n",
        "    print(\"Inside function - list:\", my_list)\n",
        "\n",
        "# Immutable argument\n",
        "number = 5\n",
        "\n",
        "# Mutable argument\n",
        "numbers_list = [1, 2, 3]\n",
        "\n",
        "# Calling the function\n",
        "modify_values(number, numbers_list)\n",
        "\n",
        "# Checking values after function call\n",
        "print(\"Outside function - number:\", number)\n",
        "print(\"Outside function - list:\", numbers_list)\n"
      ],
      "metadata": {
        "colab": {
          "base_uri": "https://localhost:8080/"
        },
        "id": "r0rRYWDCSfI8",
        "outputId": "db2ae95f-fd6e-4a14-813d-d7352075fe2e"
      },
      "execution_count": 7,
      "outputs": [
        {
          "output_type": "stream",
          "name": "stdout",
          "text": [
            "Inside function - num: 15\n",
            "Inside function - list: [1, 2, 3, 100]\n",
            "Outside function - number: 5\n",
            "Outside function - list: [1, 2, 3, 100]\n"
          ]
        }
      ]
    },
    {
      "cell_type": "code",
      "source": [
        "#Write a program that performs basic arithmetic operations on two user-input numbers\n",
        "# Getting user input\n",
        "num1 = float(input(\"Enter the first number: \"))\n",
        "num2 = float(input(\"Enter the second number: \"))\n",
        "\n",
        "# Performing operations\n",
        "print(\"Addition:\", num1 + num2)\n",
        "print(\"Subtraction:\", num1 - num2)\n",
        "print(\"Multiplication:\", num1 * num2)\n",
        "\n",
        "# Checking for division by zero\n",
        "if num2 != 0:\n",
        "    print(\"Division:\", num1 / num2)\n",
        "else:\n",
        "    print(\"Division: Cannot divide by zero\")\n"
      ],
      "metadata": {
        "colab": {
          "base_uri": "https://localhost:8080/"
        },
        "id": "od4wY2WQS2-4",
        "outputId": "8a21fa8d-e336-4582-929c-ec991218a43a"
      },
      "execution_count": 8,
      "outputs": [
        {
          "output_type": "stream",
          "name": "stdout",
          "text": [
            "Enter the first number: 25\n",
            "Enter the second number: 5\n",
            "Addition: 30.0\n",
            "Subtraction: 20.0\n",
            "Multiplication: 125.0\n",
            "Division: 5.0\n"
          ]
        }
      ]
    },
    {
      "cell_type": "code",
      "source": [
        "#Write a program to demonstrate the use of logical operators\n",
        "# Input from user\n",
        "age = int(input(\"Enter your age: \"))\n",
        "has_ticket = input(\"Do you have a ticket? (yes/no): \").lower()\n",
        "\n",
        "# Using logical AND\n",
        "if age >= 18 and has_ticket == \"yes\":\n",
        "    print(\"You are allowed to enter.\")\n",
        "else:\n",
        "    print(\"Entry denied.\")\n",
        "\n",
        "# Using logical OR\n",
        "if age < 18 or has_ticket != \"yes\":\n",
        "    print(\"You either need to be older or have a ticket.\")\n",
        "\n",
        "# Using logical NOT\n",
        "if not (age >= 18 and has_ticket == \"yes\"):\n",
        "    print(\"Access denied using NOT condition.\")\n"
      ],
      "metadata": {
        "colab": {
          "base_uri": "https://localhost:8080/"
        },
        "id": "mXgrHqUlTY_M",
        "outputId": "4bb1f310-5293-42a2-92a7-403ab75bc57b"
      },
      "execution_count": 9,
      "outputs": [
        {
          "output_type": "stream",
          "name": "stdout",
          "text": [
            "Enter your age: 24\n",
            "Do you have a ticket? (yes/no): no\n",
            "Entry denied.\n",
            "You either need to be older or have a ticket.\n",
            "Access denied using NOT condition.\n"
          ]
        }
      ]
    },
    {
      "cell_type": "code",
      "source": [
        "#Write a Python program to convert user input from string to integer, float, and boolean types\n",
        "\n",
        "# Getting input from the user\n",
        "user_input = input(\"Enter a value: \")\n",
        "\n",
        "# Converting to integer\n",
        "try:\n",
        "    int_value = int(user_input)\n",
        "    print(\"Integer:\", int_value)\n",
        "except ValueError:\n",
        "    print(\"Cannot convert to integer.\")\n",
        "\n",
        "# Converting to float\n",
        "try:\n",
        "    float_value = float(user_input)\n",
        "    print(\"Float:\", float_value)\n",
        "except ValueError:\n",
        "    print(\"Cannot convert to float.\")\n",
        "\n",
        "# Converting to boolean\n",
        "bool_value = bool(user_input)\n",
        "print(\"Boolean:\", bool_value)\n"
      ],
      "metadata": {
        "colab": {
          "base_uri": "https://localhost:8080/"
        },
        "id": "uMwuLGyRTw0Y",
        "outputId": "536c1382-6286-433e-817a-4498487bd3eb"
      },
      "execution_count": 10,
      "outputs": [
        {
          "output_type": "stream",
          "name": "stdout",
          "text": [
            "Enter a value: 49\n",
            "Integer: 49\n",
            "Float: 49.0\n",
            "Boolean: True\n"
          ]
        }
      ]
    },
    {
      "cell_type": "code",
      "source": [
        "# Write code to demonstrate type casting with list elements.\n",
        "\n",
        "string_list = [\"10\", \"20\", \"30\", \"40\"]\n",
        "\n",
        "int_list = [int(item) for item in string_list]\n",
        "\n",
        "float_list = [float(item) for item in string_list]\n",
        "\n",
        "bool_list = [bool(item) for item in string_list]\n",
        "\n",
        "# Display results\n",
        "print(\"Original list (strings):\", string_list)\n",
        "print(\"Converted to integers:\", int_list)\n",
        "print(\"Converted to floats:\", float_list)\n",
        "print(\"Converted to booleans:\", bool_list)\n"
      ],
      "metadata": {
        "colab": {
          "base_uri": "https://localhost:8080/"
        },
        "id": "PZ9oBWh4UD4d",
        "outputId": "01ee0da8-9467-4ba8-890c-8356412997d8"
      },
      "execution_count": 11,
      "outputs": [
        {
          "output_type": "stream",
          "name": "stdout",
          "text": [
            "Original list (strings): ['10', '20', '30', '40']\n",
            "Converted to integers: [10, 20, 30, 40]\n",
            "Converted to floats: [10.0, 20.0, 30.0, 40.0]\n",
            "Converted to booleans: [True, True, True, True]\n"
          ]
        }
      ]
    },
    {
      "cell_type": "code",
      "source": [
        "#Write a program that checks if a number is positive, negative, or zero\n",
        "\n",
        "# Getting input from the user\n",
        "num = float(input(\"Enter a number: \"))\n",
        "\n",
        "# Checking the condition\n",
        "if num > 0:\n",
        "    print(\"The number is positive.\")\n",
        "elif num < 0:\n",
        "    print(\"The number is negative.\")\n",
        "else:\n",
        "    print(\"The number is zero.\")\n"
      ],
      "metadata": {
        "colab": {
          "base_uri": "https://localhost:8080/"
        },
        "id": "G6yGTQOkUS0M",
        "outputId": "1cbe722c-c02e-4eb0-929a-5ac320c2b2a3"
      },
      "execution_count": 12,
      "outputs": [
        {
          "output_type": "stream",
          "name": "stdout",
          "text": [
            "Enter a number: -289\n",
            "The number is negative.\n"
          ]
        }
      ]
    },
    {
      "cell_type": "code",
      "source": [
        "#Write a for loop to print numbers from 1 to 10.\n",
        "for i in range(1, 11):\n",
        "    print(i)\n"
      ],
      "metadata": {
        "colab": {
          "base_uri": "https://localhost:8080/"
        },
        "id": "82nkH8UQUiPd",
        "outputId": "73c4f98c-4837-4feb-d2d5-d49f3aafffd5"
      },
      "execution_count": 13,
      "outputs": [
        {
          "output_type": "stream",
          "name": "stdout",
          "text": [
            "1\n",
            "2\n",
            "3\n",
            "4\n",
            "5\n",
            "6\n",
            "7\n",
            "8\n",
            "9\n",
            "10\n"
          ]
        }
      ]
    },
    {
      "cell_type": "code",
      "source": [
        "#Write a Python program to find the sum of all even numbers between 1 and 50\n",
        "\n",
        "even_sum = 0\n",
        "\n",
        "for number in range(1, 51):\n",
        "    if number % 2 == 0:\n",
        "        even_sum += number\n",
        "\n",
        "print(\"Sum of all even numbers between 1 and 50 is:\", even_sum)\n"
      ],
      "metadata": {
        "colab": {
          "base_uri": "https://localhost:8080/"
        },
        "id": "L1UijI3EU0pf",
        "outputId": "dace18f6-17d4-4f48-a34f-546f139f165e"
      },
      "execution_count": 14,
      "outputs": [
        {
          "output_type": "stream",
          "name": "stdout",
          "text": [
            "Sum of all even numbers between 1 and 50 is: 650\n"
          ]
        }
      ]
    },
    {
      "cell_type": "code",
      "source": [
        "# Write a program to reverse a string using a while loop.\n",
        "\n",
        "# Getting input from the user\n",
        "original_string = input(\"Enter a string: \")\n",
        "\n",
        "# Initializing variables\n",
        "reversed_string = \"\"\n",
        "index = len(original_string) - 1\n",
        "\n",
        "# Use while loop to reverse the string\n",
        "while index >= 0:\n",
        "    reversed_string += original_string[index]\n",
        "    index -= 1\n",
        "\n",
        "# Display the reversed string\n",
        "print(\"Reversed string:\", reversed_string)\n"
      ],
      "metadata": {
        "colab": {
          "base_uri": "https://localhost:8080/"
        },
        "id": "jH9SJqG0VDMK",
        "outputId": "3419842c-4fa3-4919-da0c-dfdf7fa32065"
      },
      "execution_count": 15,
      "outputs": [
        {
          "output_type": "stream",
          "name": "stdout",
          "text": [
            "Enter a string: nikki\n",
            "Reversed string: ikkin\n"
          ]
        }
      ]
    },
    {
      "cell_type": "code",
      "source": [
        "#Write a Python program to calculate the factorial of a number provided by the user using a while loop\n",
        "\n",
        "# Get input from the user\n",
        "num = int(input(\"Enter a non-negative integer: \"))\n",
        "\n",
        "# Initialize variables\n",
        "factorial = 1\n",
        "i = 1\n",
        "\n",
        "# Check for valid input\n",
        "if num < 0:\n",
        "    print(\"Factorial is not defined for negative numbers.\")\n",
        "else:\n",
        "    while i <= num:\n",
        "        factorial *= i\n",
        "        i += 1\n",
        "    print(f\"The factorial of {num} is {factorial}\")\n"
      ],
      "metadata": {
        "colab": {
          "base_uri": "https://localhost:8080/"
        },
        "id": "3MmLdFzlVbND",
        "outputId": "06d147c3-b69a-4d3a-d3a8-829c597bc080"
      },
      "execution_count": 17,
      "outputs": [
        {
          "output_type": "stream",
          "name": "stdout",
          "text": [
            "Enter a non-negative integer: 5\n",
            "The factorial of 5 is 120\n"
          ]
        }
      ]
    }
  ]
}